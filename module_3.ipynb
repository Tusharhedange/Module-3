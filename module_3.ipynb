{
 "cells": [
  {
   "cell_type": "code",
   "execution_count": null,
   "metadata": {},
   "outputs": [],
   "source": [
    "#What is List? How will you reverse a list?\n",
    "\n",
    "list is mutable datatype.\n",
    "list is a one type of container.\n",
    "list contains any datatype.\n",
    "list is a dynamic array meanse (add/remove)\n",
    "\n",
    "\n",
    "How will you reverse a list?\n",
    "\n",
    "solution 1)\n",
    "lst=[1,5,6,8,5,9]\n",
    "lst.reverse()\n",
    "\n",
    "solution 2)\n",
    "lst=[1,5,6,8,5,9]\n",
    "lst[::-1]"
   ]
  },
  {
   "cell_type": "code",
   "execution_count": null,
   "metadata": {},
   "outputs": [],
   "source": []
  },
  {
   "cell_type": "code",
   "execution_count": null,
   "metadata": {},
   "outputs": [],
   "source": []
  },
  {
   "cell_type": "code",
   "execution_count": null,
   "metadata": {},
   "outputs": [],
   "source": [
    "# How will you remove last object from a list?\n",
    "# ANS: using pop()\n",
    "\n",
    "lst=[1,5,6,8,5,9]\n",
    "lst.pop()\n",
    "lst"
   ]
  },
  {
   "cell_type": "code",
   "execution_count": null,
   "metadata": {},
   "outputs": [],
   "source": []
  },
  {
   "cell_type": "code",
   "execution_count": null,
   "metadata": {},
   "outputs": [],
   "source": [
    "# Suppose list1 is [2, 33, 222, 14, and 25], what is list1 [-1]?\n",
    "# ANS : 25\n",
    "\n",
    "list1=[2, 33, 222, 14, 25]\n",
    "list1[-1]"
   ]
  },
  {
   "cell_type": "code",
   "execution_count": null,
   "metadata": {},
   "outputs": [],
   "source": []
  },
  {
   "cell_type": "code",
   "execution_count": null,
   "metadata": {},
   "outputs": [],
   "source": [
    "# Differentiate between append () and extend () methods?\n",
    "\n",
    "#append: new value add in last\n",
    "list1=[2, 33, 222, 14, 25]\n",
    "list1.append(7)\n",
    "list1"
   ]
  },
  {
   "cell_type": "code",
   "execution_count": null,
   "metadata": {},
   "outputs": [],
   "source": [
    "#extend : add all the elements last of the list\n",
    "lst1=[1,5,6,8,7]\n",
    "lst2=[8,6,5,7]\n",
    "lst1.extend(lst2)\n",
    "lst1"
   ]
  },
  {
   "cell_type": "code",
   "execution_count": null,
   "metadata": {},
   "outputs": [],
   "source": []
  },
  {
   "cell_type": "code",
   "execution_count": 7,
   "metadata": {},
   "outputs": [
    {
     "name": "stdout",
     "output_type": "stream",
     "text": [
      "how many data you inserted: 5\n",
      "please insert values: 75\n",
      "please insert values: 84\n",
      "please insert values: 65\n",
      "please insert values: 75\n",
      "please insert values: 25\n",
      "you insert more data yes|no: no\n",
      "[75, 84, 65, 75, 25]\n",
      "largest number is:  84\n",
      "smallest number is:  25\n",
      "sum of all numbers:  324\n"
     ]
    }
   ],
   "source": [
    "#Write a Python function to get the largest number, smallest num and sum of all from a list.\n",
    "\n",
    "#solution - 1)\n",
    "\n",
    "def check():\n",
    "    lst=[]\n",
    "    num=int(input('how many data you inserted: '))\n",
    "    while True:\n",
    "        for i in range(num):\n",
    "            add=int(input('please insert values: '))\n",
    "            lst.append(add)\n",
    "        option=input('you insert more data yes|no: ')\n",
    "        while True:\n",
    "            if option.lower()=='no':\n",
    "                break\n",
    "            elif option.lower()=='yes':\n",
    "                break\n",
    "            else:\n",
    "                option=input('please enter valid input yes|no: ')\n",
    "        print(lst)\n",
    "        print('largest number is: ',max(lst))\n",
    "        print('smallest number is: ',min(lst))\n",
    "        print('sum of all numbers: ',sum(lst))\n",
    "        if option=='no':\n",
    "            break\n",
    "check()\n"
   ]
  },
  {
   "cell_type": "code",
   "execution_count": null,
   "metadata": {},
   "outputs": [],
   "source": []
  },
  {
   "cell_type": "code",
   "execution_count": null,
   "metadata": {},
   "outputs": [],
   "source": [
    "#solution - 2)\n",
    "\n",
    "def check():\n",
    "    lst=[]\n",
    "    num=int(input('numbers'))\n",
    "    for i in range(num):\n",
    "        element=int(input('please enter value: '))\n",
    "        lst.append(element)\n",
    "    print('largest number: ',max(lst))\n",
    "    print('smallest number: ',min(lst))\n",
    "    print('sum of numbers: ',sum(lst))\n",
    "check()"
   ]
  },
  {
   "cell_type": "code",
   "execution_count": null,
   "metadata": {},
   "outputs": [],
   "source": []
  },
  {
   "cell_type": "code",
   "execution_count": null,
   "metadata": {},
   "outputs": [],
   "source": [
    "#How will you compare two lists?\n",
    "# ANS: using relational operator ==\n",
    "\n",
    "l1=[5,6,2]\n",
    "l2=[5,6,3]\n",
    "if l1==l2:\n",
    "    print('yes')\n",
    "else:\n",
    "    print('no')"
   ]
  },
  {
   "cell_type": "code",
   "execution_count": null,
   "metadata": {},
   "outputs": [],
   "source": []
  },
  {
   "cell_type": "code",
   "execution_count": 15,
   "metadata": {},
   "outputs": [
    {
     "name": "stdout",
     "output_type": "stream",
     "text": [
      "['abc', 'aba', '1221']\n",
      "2\n"
     ]
    }
   ],
   "source": [
    "#Write a Python program to count the number of strings where the string length is 2 or more \n",
    "#and the first and last character are same from a given list of strings.\n",
    "\n",
    "str=['abc','aba','1221']\n",
    "count=0\n",
    "for i in str:\n",
    "    if len(i)>=2 and i[0]==i[-1]:\n",
    "        count+=1\n",
    "    \n",
    "else:\n",
    "    print(str)\n",
    "print(count)"
   ]
  },
  {
   "cell_type": "code",
   "execution_count": null,
   "metadata": {},
   "outputs": [],
   "source": []
  },
  {
   "cell_type": "code",
   "execution_count": 30,
   "metadata": {},
   "outputs": [
    {
     "data": {
      "text/plain": [
       "[8, 5, 6, 2]"
      ]
     },
     "execution_count": 30,
     "metadata": {},
     "output_type": "execute_result"
    }
   ],
   "source": [
    "#Write a Python program to remove duplicates from a list.\n",
    "\n",
    "lst=[8,5,6,5,2,6,5,8]\n",
    "lst1=[]\n",
    "for i in lst:\n",
    "    if i not in lst1:\n",
    "        lst1.append(i)\n",
    "lst1"
   ]
  },
  {
   "cell_type": "code",
   "execution_count": null,
   "metadata": {},
   "outputs": [],
   "source": []
  },
  {
   "cell_type": "code",
   "execution_count": null,
   "metadata": {},
   "outputs": [],
   "source": [
    "# Write a Python program to check a list is empty or not.\n",
    "\n",
    "lst=[8,5,6,5,2,6,5,8]\n",
    "lst1=[]\n",
    "if lst==lst1:\n",
    "    print('list is empty')\n",
    "else:\n",
    "    print('not')"
   ]
  },
  {
   "cell_type": "code",
   "execution_count": null,
   "metadata": {},
   "outputs": [],
   "source": []
  },
  {
   "cell_type": "code",
   "execution_count": null,
   "metadata": {},
   "outputs": [],
   "source": [
    "lst1=[]\n",
    "if len(lst1)==0:\n",
    "    print('list is empty')\n",
    "else:\n",
    "    print('not')"
   ]
  },
  {
   "cell_type": "code",
   "execution_count": null,
   "metadata": {},
   "outputs": [],
   "source": []
  },
  {
   "cell_type": "code",
   "execution_count": null,
   "metadata": {},
   "outputs": [],
   "source": [
    "#Write a Python function that takes two lists and returns true if they have at least one common member.\n",
    "\n",
    "def match(l1,l2):\n",
    "    check=False\n",
    "    for i in l1:\n",
    "        for j in l2:\n",
    "            if i==j:\n",
    "                check=True\n",
    "                return check\n",
    "match([1,5,3,5,6],[8,5,6,9,5,4])     "
   ]
  },
  {
   "cell_type": "code",
   "execution_count": null,
   "metadata": {},
   "outputs": [],
   "source": []
  },
  {
   "cell_type": "code",
   "execution_count": null,
   "metadata": {},
   "outputs": [],
   "source": [
    "#Write a Python program to generate and print a list of first \n",
    "#and last 5 elements where the values are square of numbers between 1 and 30.\n",
    "\n",
    "\n",
    "lst=[]\n",
    "for i in range(1,31):\n",
    "    lst.append(i*i)\n",
    "print(lst[:5])\n",
    "print(lst[-5:])"
   ]
  },
  {
   "cell_type": "code",
   "execution_count": null,
   "metadata": {},
   "outputs": [],
   "source": [
    "#Write a Python program to select an item randomly from a list. "
   ]
  },
  {
   "cell_type": "code",
   "execution_count": 50,
   "metadata": {},
   "outputs": [
    {
     "name": "stdout",
     "output_type": "stream",
     "text": [
      "[1, 2, 3, 3, 3, 3, 4, 5]\n",
      "[1, 2, 3, 4, 5]\n"
     ]
    }
   ],
   "source": [
    "#Write a Python function that takes a list and returns a new list with unique elements of the first list.\n",
    "\n",
    "lst=['a','d','g',1,5,6,5,8,9]\n",
    "lst1=[]\n",
    "for i in lst:\n",
    "    if i not in lst1:\n",
    "        lst1.append(i)\n",
    "print('old list',lst)\n",
    "print('new list',lst1)\n"
   ]
  },
  {
   "cell_type": "code",
   "execution_count": 59,
   "metadata": {},
   "outputs": [
    {
     "data": {
      "text/plain": [
       "'adg'"
      ]
     },
     "execution_count": 59,
     "metadata": {},
     "output_type": "execute_result"
    }
   ],
   "source": [
    "#Write a Python program to convert a list of characters into a string.\n",
    "\n",
    "s=['a','d','g']\n",
    "str1 = ''.join(s)\n",
    "str1"
   ]
  },
  {
   "cell_type": "code",
   "execution_count": 64,
   "metadata": {},
   "outputs": [
    {
     "name": "stdout",
     "output_type": "stream",
     "text": [
      "3\n"
     ]
    }
   ],
   "source": [
    "#Write a Python program to find the second smallest number in a list.\n",
    "lst=[5,2,3,6,58,26,58,42,32]\n",
    "lst=sorted(lst)\n",
    "print(lst[1])"
   ]
  },
  {
   "cell_type": "code",
   "execution_count": null,
   "metadata": {},
   "outputs": [],
   "source": [
    "\n",
    " Write a Python program to check whether a list contains a sub list\n",
    " Write a Python program to split a list into different variables."
   ]
  },
  {
   "cell_type": "code",
   "execution_count": null,
   "metadata": {},
   "outputs": [],
   "source": [
    "\n",
    " How Do You Traverse Through A Dictionary Object In Python?\n",
    " How Do You Check The Presence Of A Key In A Dictionary?\n",
    "\n",
    "\n"
   ]
  },
  {
   "cell_type": "code",
   "execution_count": 7,
   "metadata": {},
   "outputs": [
    {
     "data": {
      "text/plain": [
       "[(1, 'a'), (5, 'd'), (10, 'c')]"
      ]
     },
     "execution_count": 7,
     "metadata": {},
     "output_type": "execute_result"
    }
   ],
   "source": [
    "#Write a Python script to sort (ascending and descending) a dictionary by value.\n",
    "d={'a':1,'c':10,'d':5}\n",
    "sorted([(value,key) for (key,value) in d.items()])"
   ]
  },
  {
   "cell_type": "code",
   "execution_count": 17,
   "metadata": {},
   "outputs": [
    {
     "data": {
      "text/plain": [
       "{'a': 1, 'c': 10, 'd': 5}"
      ]
     },
     "execution_count": 17,
     "metadata": {},
     "output_type": "execute_result"
    }
   ],
   "source": [
    "#Write a Python script to concatenate following dictionaries to create a new one.\n",
    "\n",
    "d={'a':1,'c':10,'d':5}\n",
    "new={}\n",
    "new.update(d)\n",
    "new"
   ]
  },
  {
   "cell_type": "code",
   "execution_count": 26,
   "metadata": {},
   "outputs": [
    {
     "name": "stdout",
     "output_type": "stream",
     "text": [
      "please enter key: g\n",
      "new key found\n"
     ]
    }
   ],
   "source": [
    "#Write a Python script to check if a given key already exists in a dictionary.\n",
    "\n",
    "d={'a':1,'c':10,'d':5}\n",
    "key=input('please enter key: ')\n",
    "if key in d.keys():\n",
    "    print('key is already present')\n",
    "else:\n",
    "    print('new key found')"
   ]
  },
  {
   "cell_type": "code",
   "execution_count": 28,
   "metadata": {},
   "outputs": [
    {
     "name": "stdout",
     "output_type": "stream",
     "text": [
      "{1: 1, 2: 2, 3: 3, 4: 4, 5: 5, 6: 6, 7: 7, 8: 8, 9: 9, 10: 10, 11: 11, 12: 12, 13: 13, 14: 14, 15: 15} "
     ]
    }
   ],
   "source": [
    "#Write a Python script to print a dictionary where the keys are numbers between 1 and 15.\n",
    "\n",
    "d={}\n",
    "for i in range(1,16):\n",
    "    d[i]=i\n",
    "print(d,end=' ')"
   ]
  },
  {
   "cell_type": "code",
   "execution_count": 35,
   "metadata": {},
   "outputs": [
    {
     "name": "stdout",
     "output_type": "stream",
     "text": [
      "{1: 1, 2: 2, 3: 3, 4: 4, 5: 5, 6: 6, 7: 7, 8: 8, 9: 9, 10: 10, 11: 11, 12: 12, 13: 13, 14: 14, 15: 15} "
     ]
    }
   ],
   "source": [
    "d={i:i for i in range(1,16)}\n",
    "print(d,end=' ')"
   ]
  },
  {
   "cell_type": "code",
   "execution_count": null,
   "metadata": {},
   "outputs": [],
   "source": [
    "#Write a Python program to check multiple keys exists in a dictionary"
   ]
  },
  {
   "cell_type": "code",
   "execution_count": 36,
   "metadata": {},
   "outputs": [
    {
     "data": {
      "text/plain": [
       "{'a': 12, 'b': 65, 'c': 85, 'd': 42}"
      ]
     },
     "execution_count": 36,
     "metadata": {},
     "output_type": "execute_result"
    }
   ],
   "source": [
    "#Write a Python script to merge two Python dictionaries\n",
    "\n",
    "d1={'a':12,'b':65}\n",
    "d2={'c':85,'d':42}\n",
    "d1.update(d2)\n",
    "d1"
   ]
  },
  {
   "cell_type": "code",
   "execution_count": 41,
   "metadata": {},
   "outputs": [
    {
     "data": {
      "text/plain": [
       "{'a': 1, 'b': 2, 'c': 3, 'd': 4}"
      ]
     },
     "execution_count": 41,
     "metadata": {},
     "output_type": "execute_result"
    }
   ],
   "source": [
    "#Write a Python program to map two lists into a dictionary\n",
    "lst1=['a','b','c','d']\n",
    "lst2=[1,2,3,4]\n",
    "d=dict(zip(lst1,lst2))\n",
    "d"
   ]
  },
  {
   "cell_type": "code",
   "execution_count": 42,
   "metadata": {},
   "outputs": [
    {
     "data": {
      "text/plain": [
       "{'a': 4, 'b': 4, 'c': 4, 'd': 4}"
      ]
     },
     "execution_count": 42,
     "metadata": {},
     "output_type": "execute_result"
    }
   ],
   "source": []
  },
  {
   "cell_type": "code",
   "execution_count": 47,
   "metadata": {},
   "outputs": [
    {
     "data": {
      "text/plain": [
       "{'a': 1, 'b': 2, 'c': 3, 'd': 4}"
      ]
     },
     "execution_count": 47,
     "metadata": {},
     "output_type": "execute_result"
    }
   ],
   "source": [
    "lst1=['a','b','c','d']\n",
    "lst2=[1,2,3,4]\n",
    "d={}\n",
    "for i in range(len(lst1)):\n",
    "    d[lst1[i]]=lst2[i]\n",
    "d"
   ]
  },
  {
   "cell_type": "code",
   "execution_count": 62,
   "metadata": {},
   "outputs": [
    {
     "data": {
      "text/plain": [
       "{'a': 12, 'b': 10, 'c': 5, 'e': 9, 'f': 7}"
      ]
     },
     "execution_count": 62,
     "metadata": {},
     "output_type": "execute_result"
    }
   ],
   "source": [
    "#Write a Python program to combine two dictionary adding values for common keys.\n",
    "#solution 1\n",
    "d1={'a':5,'b':10,'c':5}\n",
    "d2={'a':7,'e':9,'f':7}\n",
    "for key in d2:\n",
    "    if key in d1:\n",
    "        d2[key]=d2[key]+d1[key]\n",
    "    else:\n",
    "        pass\n",
    "d1.update(d2)\n",
    "d1"
   ]
  },
  {
   "cell_type": "code",
   "execution_count": 60,
   "metadata": {},
   "outputs": [
    {
     "data": {
      "text/plain": [
       "{'a': 12, 'b': 10, 'c': 5, 'e': 9, 'f': 7}"
      ]
     },
     "execution_count": 60,
     "metadata": {},
     "output_type": "execute_result"
    }
   ],
   "source": [
    "#solution 2\n",
    "d1={'a':5,'b':10,'c':5}\n",
    "d2={'a':7,'e':9,'f':7}\n",
    "for key in d2:\n",
    "    if key in d1:\n",
    "        d2[key]=d2[key]+d1[key]\n",
    "    else:\n",
    "        pass\n",
    "d3={**d1,**d2}\n",
    "d3"
   ]
  },
  {
   "cell_type": "code",
   "execution_count": null,
   "metadata": {},
   "outputs": [],
   "source": [
    "o d1 = {'a': 100, 'b': 200, 'c':300}\n",
    "o d2 = {'a': 300, 'b': 200,’d’:400}\n",
    " Sample output: Counter ({'a': 400, 'b': 400,’d’: 400, 'c': 300})."
   ]
  },
  {
   "cell_type": "code",
   "execution_count": 70,
   "metadata": {},
   "outputs": [
    {
     "data": {
      "text/plain": [
       "[('a', 400), ('b', 400), ('c', 300), ('d', 400)]"
      ]
     },
     "execution_count": 70,
     "metadata": {},
     "output_type": "execute_result"
    }
   ],
   "source": [
    "--------pending---------\n",
    "\n",
    "d1 = {'a': 100, 'b': 200, 'c':300}\n",
    "d2 = {'a': 300, 'b': 200,'d':400}\n",
    "for key in d2:\n",
    "    if key in d1:\n",
    "        d2[key]+=d1[key]\n",
    "    else:\n",
    "        pass\n",
    "d1.update(d2)\n",
    "sorted([(key,value) for (key,value) in d1.items()])"
   ]
  },
  {
   "cell_type": "code",
   "execution_count": 77,
   "metadata": {},
   "outputs": [
    {
     "data": {
      "text/plain": [
       "[5, 7, 8]"
      ]
     },
     "execution_count": 77,
     "metadata": {},
     "output_type": "execute_result"
    }
   ],
   "source": [
    "#Write a Python program to print all unique values in a dictionary.\n",
    "d={'a':5,'b':5,'c':7,'d':8}\n",
    "lst=[]\n",
    "for i in d.values():\n",
    "    if i not in lst:\n",
    "        lst.append(i)\n",
    "    else:\n",
    "        pass\n",
    "lst"
   ]
  },
  {
   "cell_type": "code",
   "execution_count": null,
   "metadata": {},
   "outputs": [],
   "source": [
    "#Why Do You Use the Zip () Method in Python?\n",
    "\n",
    "Python zip() function creates an iterator that will aggregate elements from two or more iterables."
   ]
  },
  {
   "cell_type": "code",
   "execution_count": null,
   "metadata": {},
   "outputs": [],
   "source": [
    "Write a Python program to create and display all combinations of letters, selecting each letter from a different key in a dictionary.\n",
    "o Sample data: {'1': ['a','b'], '2': ['c','d']}\n",
    "o Expected Output:\n",
    "o ac ad bc bd\n",
    "\n",
    "\n",
    " Write a Python program to combine values in python list of dictionaries. Sample data: [{'item': 'item1', 'amount': 400}, {'item': 'item2', 'amount': 300},\n",
    "o {'item': 'item1', 'amount': 750}]\n",
    "o Expected Output: Counter ({'item1': 1150, 'item2': 300})\n",
    "    \n"
   ]
  },
  {
   "cell_type": "code",
   "execution_count": 78,
   "metadata": {},
   "outputs": [
    {
     "data": {
      "text/plain": [
       "{'w': 1, '3': 1, 'r': 2, 'e': 2, 's': 1, 'o': 1, 'u': 1, 'c': 1}"
      ]
     },
     "execution_count": 78,
     "metadata": {},
     "output_type": "execute_result"
    }
   ],
   "source": [
    "#  Write a Python program to create a dictionary from a string.\n",
    "# o Note: Track the count of the letters from the string. Sample string: 'w3resource'\n",
    "# o Expected output: {'3': 1,’s’: 1, 'r': 2, 'u': 1, 'w': 1, 'c': 1, 'e': 2, 'o': 1}\n",
    "\n",
    "#solution 1\n",
    "str='w3resource'\n",
    "d={}\n",
    "for i in str:\n",
    "    d[i]=d.get(i,0)+1\n",
    "d"
   ]
  },
  {
   "cell_type": "code",
   "execution_count": 80,
   "metadata": {},
   "outputs": [
    {
     "data": {
      "text/plain": [
       "{'w': 1, '3': 1, 'r': 2, 'e': 2, 's': 1, 'o': 1, 'u': 1, 'c': 1}"
      ]
     },
     "execution_count": 80,
     "metadata": {},
     "output_type": "execute_result"
    }
   ],
   "source": [
    "#solution 2\n",
    "\n",
    "str='w3resource'\n",
    "d={}\n",
    "for i in str:\n",
    "    if i in d:\n",
    "        d[i]+=1\n",
    "    else:\n",
    "        d[i]=1\n",
    "d"
   ]
  },
  {
   "cell_type": "code",
   "execution_count": 124,
   "metadata": {},
   "outputs": [
    {
     "name": "stdout",
     "output_type": "stream",
     "text": [
      "3 12\n",
      "w 5\n",
      "r 2\n",
      "e 2\n"
     ]
    }
   ],
   "source": [
    "#Write a Python program to find the highest 3 values in a dictionary\n",
    "\n",
    "d={'w': 5, '3': 12, 'r': 2, 'e': 2, 's': 1, 'o': 1, 'u': 1, 'c': 1}\n",
    "x=list(d.values())\n",
    "x.sort(reverse=True)\n",
    "x=x[:3]\n",
    "for i in x:\n",
    "    for j in d.keys():\n",
    "        if d[j]==i:\n",
    "            print(j,d[j])\n",
    "            \n",
    "    "
   ]
  },
  {
   "cell_type": "code",
   "execution_count": null,
   "metadata": {},
   "outputs": [],
   "source": []
  },
  {
   "cell_type": "code",
   "execution_count": 132,
   "metadata": {},
   "outputs": [
    {
     "data": {
      "text/plain": [
       "120"
      ]
     },
     "execution_count": 132,
     "metadata": {},
     "output_type": "execute_result"
    }
   ],
   "source": [
    "#Write a Python function to calculate the factorial of a number (a non-negative integer)\n",
    "\n",
    "def fact(n):\n",
    "    f=1\n",
    "    while n>0:\n",
    "        f=f*n\n",
    "        n=n-1\n",
    "    return f\n",
    "fact(5)"
   ]
  },
  {
   "cell_type": "code",
   "execution_count": 134,
   "metadata": {},
   "outputs": [
    {
     "name": "stdout",
     "output_type": "stream",
     "text": [
      "please enter number: 29\n",
      "right\n"
     ]
    }
   ],
   "source": [
    "#Write a Python function to check whether a number is in a given range\n",
    "\n",
    "def check():\n",
    "    number=int(input('please enter number: '))\n",
    "    if number>30:\n",
    "        print('number out of range')\n",
    "    else:\n",
    "        print('number is right')\n",
    "check()"
   ]
  },
  {
   "cell_type": "code",
   "execution_count": 145,
   "metadata": {},
   "outputs": [
    {
     "name": "stdout",
     "output_type": "stream",
     "text": [
      "please enter number: 28\n",
      "number is perfect\n"
     ]
    }
   ],
   "source": [
    "#Write a Python function to check whether a number is perfect or not.\n",
    "n=int(input('please enter number: '))\n",
    "per=0\n",
    "for i in range(1,n):\n",
    "    if n%i==0:\n",
    "        per=per+i\n",
    "    else:\n",
    "        pass\n",
    "if per==n:\n",
    "    print('number is perfect')\n",
    "else:\n",
    "    print('number is not perfect')"
   ]
  },
  {
   "cell_type": "code",
   "execution_count": 148,
   "metadata": {},
   "outputs": [
    {
     "name": "stdout",
     "output_type": "stream",
     "text": [
      "please enter number: 28\n",
      "number is perfect\n"
     ]
    }
   ],
   "source": [
    "def perfect():\n",
    "    n=int(input('please enter number: '))\n",
    "    per=0\n",
    "    for i in range(1,n):\n",
    "        if n%i==0:\n",
    "            per=per+i\n",
    "        else:\n",
    "            pass\n",
    "    if per==n:\n",
    "        print('number is perfect')\n",
    "    else:\n",
    "        print('number is not perfect')\n",
    "perfect()"
   ]
  },
  {
   "cell_type": "code",
   "execution_count": 153,
   "metadata": {},
   "outputs": [
    {
     "name": "stdout",
     "output_type": "stream",
     "text": [
      "please enter string: sagar\n",
      "not palindrom\n"
     ]
    }
   ],
   "source": [
    "#Write a Python function that checks whether a passed string is palindrome or not\n",
    "def palindrom():\n",
    "    str=input('please enter string: ')\n",
    "    if str[::]==str[::-1]:\n",
    "        print('palindrome')\n",
    "    else:\n",
    "        print('not palindrom')\n",
    "palindrom()"
   ]
  },
  {
   "cell_type": "code",
   "execution_count": null,
   "metadata": {},
   "outputs": [],
   "source": []
  }
 ],
 "metadata": {
  "kernelspec": {
   "display_name": "Python 3",
   "language": "python",
   "name": "python3"
  },
  "language_info": {
   "codemirror_mode": {
    "name": "ipython",
    "version": 3
   },
   "file_extension": ".py",
   "mimetype": "text/x-python",
   "name": "python",
   "nbconvert_exporter": "python",
   "pygments_lexer": "ipython3",
   "version": "3.7.6"
  }
 },
 "nbformat": 4,
 "nbformat_minor": 4
}
